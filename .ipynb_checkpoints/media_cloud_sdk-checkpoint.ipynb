{
 "cells": [
  {
   "cell_type": "markdown",
   "metadata": {},
   "source": [
    "![alt text](https://static1.squarespace.com/static/58cc2ac0cd0f68fdc8eb3753/t/58e518de9f7456846dd5a31f/1507310416358/?format=1500w)\n",
    "# Media Cloud \n",
    "## An open-source platform for studying media ecosystems.\n",
    "- website: https://mediacloud.org/\n",
    "- api documentation: https://github.com/berkmancenter/mediacloud/blob/master/doc/api_2_0_spec/api_2_0_spec.md\n",
    "- python sdk (no documentation though): https://github.com/mitmedialab/MediaCloud-API-Client"
   ]
  },
  {
   "cell_type": "markdown",
   "metadata": {},
   "source": [
    "## Profile and Overview"
   ]
  },
  {
   "cell_type": "code",
   "execution_count": 2,
   "metadata": {
    "collapsed": true
   },
   "outputs": [],
   "source": [
    "import media_cloud_profile as mc_profile\n",
    "\n",
    "# subtitute with your own API key. This one is no longer valid!!\n",
    "profile = mc_profile.profile(API_key = 'f317d30a4559267ce4a28bffb7a3020116326a27947573b88abe85f0bc0dd672')"
   ]
  },
  {
   "cell_type": "markdown",
   "metadata": {},
   "source": [
    "#### profile"
   ]
  },
  {
   "cell_type": "code",
   "execution_count": 3,
   "metadata": {},
   "outputs": [
    {
     "name": "stdout",
     "output_type": "stream",
     "text": [
      "role:  search\n",
      "created date:  2017-10-11T21:59:31\n",
      "email:  chenwang.carrie@gmail.com\n",
      "full name:  Chen Wang\n",
      "weekly requested items (limit/used):  100000/666\n",
      "weekly requested (limit/used):  10000/666\n",
      "notes:  Developer \n"
     ]
    }
   ],
   "source": [
    "profile.get_profile()"
   ]
  },
  {
   "cell_type": "markdown",
   "metadata": {},
   "source": [
    "#### overall stats"
   ]
  },
  {
   "cell_type": "code",
   "execution_count": 4,
   "metadata": {},
   "outputs": [
    {
     "name": "stdout",
     "output_type": "stream",
     "text": [
      "total stories:  546640512\n",
      "total_downloads:  961951872\n",
      "total sentences:  7247441920\n",
      "active_crawled_media:  46418\n",
      "active_cralwed_feeds:  94012\n",
      "daily_stories:  439897\n",
      "daily_downloads:  668157\n"
     ]
    }
   ],
   "source": [
    "profile.get_stats_list()"
   ]
  },
  {
   "cell_type": "markdown",
   "metadata": {},
   "source": [
    "## Media"
   ]
  },
  {
   "cell_type": "code",
   "execution_count": 5,
   "metadata": {
    "collapsed": true
   },
   "outputs": [],
   "source": [
    "import media_cloud_media as mc_media\n",
    "\n",
    "# subtitute with your own API key. This one is no longer valid!!\n",
    "media = mc_media.media(API_key ='f317d30a4559267ce4a28bffb7a3020116326a27947573b88abe85f0bc0dd672')"
   ]
  },
  {
   "cell_type": "markdown",
   "metadata": {},
   "source": [
    "#### get single media information"
   ]
  },
  {
   "cell_type": "code",
   "execution_count": 6,
   "metadata": {},
   "outputs": [
    {
     "name": "stdout",
     "output_type": "stream",
     "text": [
      "save results to New_York_Times_info/basics.csv\n",
      "save results to New_York_Times_info/media_source_tags.csv\n"
     ]
    }
   ],
   "source": [
    "media.get_single_media_info(media_id = 1)"
   ]
  },
  {
   "cell_type": "markdown",
   "metadata": {},
   "source": [
    "#### get the health information of a media"
   ]
  },
  {
   "cell_type": "code",
   "execution_count": 7,
   "metadata": {},
   "outputs": [
    {
     "name": "stdout",
     "output_type": "stream",
     "text": [
      "save results to New_York_Times_health/basics.csv\n",
      "save results to New_York_Times_health/coverage_gaps_list.csv\n"
     ]
    }
   ],
   "source": [
    "media.get_media_health(media_id = 1)"
   ]
  },
  {
   "cell_type": "markdown",
   "metadata": {},
   "source": [
    "## Feed"
   ]
  },
  {
   "cell_type": "code",
   "execution_count": 8,
   "metadata": {
    "collapsed": true
   },
   "outputs": [],
   "source": [
    "import media_cloud_feeds as mc_feeds\n",
    "\n",
    "# subtitute with your own API key. This one is no longer valid!!\n",
    "feeds = mc_feeds.feed('f317d30a4559267ce4a28bffb7a3020116326a27947573b88abe85f0bc0dd672')"
   ]
  },
  {
   "cell_type": "markdown",
   "metadata": {},
   "source": [
    "#### get single feed informatioin"
   ]
  },
  {
   "cell_type": "code",
   "execution_count": 9,
   "metadata": {},
   "outputs": [
    {
     "name": "stdout",
     "output_type": "stream",
     "text": [
      "save results to DealBook_feed/basic.txt\n",
      "save results to DealBook_feed/rss.xml\n"
     ]
    }
   ],
   "source": [
    "feeds.get_single_feed(feed_id = 2)"
   ]
  },
  {
   "cell_type": "markdown",
   "metadata": {},
   "source": [
    "#### get a list of feed information"
   ]
  },
  {
   "cell_type": "code",
   "execution_count": 10,
   "metadata": {},
   "outputs": [
    {
     "name": "stdout",
     "output_type": "stream",
     "text": [
      "done!\n",
      "save results to feed_list.csv\n"
     ]
    }
   ],
   "source": [
    "feeds.get_feed_list(total_num=100, media_id=2)"
   ]
  },
  {
   "cell_type": "markdown",
   "metadata": {},
   "source": [
    "## Story \n",
    "- q is the query \n",
    "- fq is the psuedo query (filter)"
   ]
  },
  {
   "cell_type": "code",
   "execution_count": 11,
   "metadata": {
    "collapsed": true
   },
   "outputs": [],
   "source": [
    "import media_cloud_stories as mc_stories\n",
    "\n",
    "# subtitute with your own API key. This one is no longer valid!!\n",
    "stories = mc_stories.story('f317d30a4559267ce4a28bffb7a3020116326a27947573b88abe85f0bc0dd672')"
   ]
  },
  {
   "cell_type": "markdown",
   "metadata": {},
   "source": [
    "#### get single story by ID"
   ]
  },
  {
   "cell_type": "code",
   "execution_count": 13,
   "metadata": {},
   "outputs": [
    {
     "name": "stdout",
     "output_type": "stream",
     "text": [
      "save results to story-27456565.txt\n"
     ]
    }
   ],
   "source": [
    "stories.get_single_story(stories_id=27456565)"
   ]
  },
  {
   "cell_type": "markdown",
   "metadata": {},
   "source": [
    "#### get story list"
   ]
  },
  {
   "cell_type": "code",
   "execution_count": 15,
   "metadata": {},
   "outputs": [
    {
     "name": "stdout",
     "output_type": "stream",
     "text": [
      "save results to 'story_list.csv'\n",
      "save results to 'feed_list_feeds.csv'\n",
      "save results to 'feed_list_wordCount.csv'\n",
      "save results to 'feed_list_storyTags.csv'\n"
     ]
    }
   ],
   "source": [
    "stories.get_story_list(last_processed_stories_id=0,rows=10, q='media_id:1', fq='')"
   ]
  },
  {
   "cell_type": "markdown",
   "metadata": {},
   "source": [
    "#### get story count"
   ]
  },
  {
   "cell_type": "code",
   "execution_count": 16,
   "metadata": {},
   "outputs": [
    {
     "name": "stdout",
     "output_type": "stream",
     "text": [
      "There are 252 stories that satisfy your query: sentence:daca and pseudo query: media_id:1\n"
     ]
    }
   ],
   "source": [
    "stories.get_story_count(q=\"sentence:daca\", fq=\"media_id:1\")"
   ]
  },
  {
   "cell_type": "markdown",
   "metadata": {},
   "source": [
    "#### get the word matrix of the story"
   ]
  },
  {
   "cell_type": "code",
   "execution_count": 17,
   "metadata": {},
   "outputs": [
    {
     "name": "stdout",
     "output_type": "stream",
     "text": [
      "save results to 'word_matrix.txt'\n"
     ]
    }
   ],
   "source": [
    "stories.get_story_word_matrix(q=\"sentence:trump\",fq=\"media_id:1\",rows=10, max_words=100, stopword_length='tiny')"
   ]
  },
  {
   "cell_type": "markdown",
   "metadata": {},
   "source": [
    "## Sentence"
   ]
  },
  {
   "cell_type": "code",
   "execution_count": 18,
   "metadata": {
    "collapsed": true
   },
   "outputs": [],
   "source": [
    "import media_cloud_sentences as mc_sentences\n",
    "\n",
    "# subtitute with your own API key. This one is no longer valid!!\n",
    "sentences = mc_sentences.sentence('f317d30a4559267ce4a28bffb7a3020116326a27947573b88abe85f0bc0dd672')"
   ]
  },
  {
   "cell_type": "markdown",
   "metadata": {},
   "source": [
    "#### get sentence count based on query and filters"
   ]
  },
  {
   "cell_type": "code",
   "execution_count": 20,
   "metadata": {},
   "outputs": [
    {
     "name": "stdout",
     "output_type": "stream",
     "text": [
      "There are 18098358 sentences that satisfy your query: sentence:renewable energy and pseudo query: \n",
      "You have set the split to be true, a splitted count file will be saved to split_count.csv!\n"
     ]
    }
   ],
   "source": [
    "sentences.get_sentence_count(q=\"sentence:renewable energy\",\n",
    "                              fq=\"\",\n",
    "                              split=\"1\",\n",
    "                              split_start_date=\"2017-01-01\",\n",
    "                              split_end_date=\"2017-07-01\")"
   ]
  },
  {
   "cell_type": "markdown",
   "metadata": {},
   "source": [
    "#### get sentence field count based on query and filters"
   ]
  },
  {
   "cell_type": "code",
   "execution_count": 21,
   "metadata": {},
   "outputs": [
    {
     "name": "stdout",
     "output_type": "stream",
     "text": [
      "num_sentences_found:  192582 \n",
      "num_sentences_returned:  100 \n",
      "sample_size_param:  100 \n",
      "\n",
      "results are saved to sentence_field_count.csv\n"
     ]
    }
   ],
   "source": [
    "sentences.get_sentence_field_count(q=\"trump\",fq=\"media_id:1\", sample_size=\"100\")"
   ]
  },
  {
   "cell_type": "markdown",
   "metadata": {},
   "source": [
    "## Word"
   ]
  },
  {
   "cell_type": "code",
   "execution_count": 29,
   "metadata": {
    "collapsed": true
   },
   "outputs": [],
   "source": [
    "import media_cloud_word as mc_word\n",
    "\n",
    "# subtitute with your own API key. This one is no longer valid!!\n",
    "words = mc_word.word('f317d30a4559267ce4a28bffb7a3020116326a27947573b88abe85f0bc0dd672')"
   ]
  },
  {
   "cell_type": "markdown",
   "metadata": {},
   "source": [
    "#### get word count list based on query and filters"
   ]
  },
  {
   "cell_type": "code",
   "execution_count": 30,
   "metadata": {},
   "outputs": [
    {
     "name": "stdout",
     "output_type": "stream",
     "text": [
      "results are saved to word_count_list.csv \n",
      "\n",
      "num_words_returned:  1 \n",
      " num_sentences_returned:  1 \n",
      " num_sentences_found:  1614748613 \n",
      " num_words_param:  1 \n",
      " sample_size_param:  1 \n",
      "\n"
     ]
    }
   ],
   "source": [
    "words.get_word_count_list(q=\"sentence:renewable+AND+energy\",fq=\"\", num_words=1, sample_size=1)"
   ]
  },
  {
   "cell_type": "markdown",
   "metadata": {},
   "source": [
    "## Tag"
   ]
  },
  {
   "cell_type": "code",
   "execution_count": 31,
   "metadata": {
    "collapsed": true
   },
   "outputs": [],
   "source": [
    "import media_cloud_tags as mc_tags\n",
    "\n",
    "# subtitute with your own API key. This one is no longer valid!!\n",
    "tags = mc_tags.tag('f317d30a4559267ce4a28bffb7a3020116326a27947573b88abe85f0bc0dd672')"
   ]
  },
  {
   "cell_type": "markdown",
   "metadata": {},
   "source": [
    "#### get single Tag by ID"
   ]
  },
  {
   "cell_type": "code",
   "execution_count": 32,
   "metadata": {},
   "outputs": [
    {
     "name": "stdout",
     "output_type": "stream",
     "text": [
      "results are saved to tag-8875027.txt\n"
     ]
    }
   ],
   "source": [
    "tags.get_single_tag('8875027')"
   ]
  },
  {
   "cell_type": "markdown",
   "metadata": {},
   "source": [
    "#### get a list of tags"
   ]
  },
  {
   "cell_type": "code",
   "execution_count": 33,
   "metadata": {},
   "outputs": [
    {
     "name": "stdout",
     "output_type": "stream",
     "text": [
      "results are saved to tags_list.csv\n"
     ]
    }
   ],
   "source": [
    "tags.get_tags_list(last_tags_id=0, tag_sets_id=None, rows=100, public=1, search=None, similar_tags_id=None)"
   ]
  },
  {
   "cell_type": "markdown",
   "metadata": {},
   "source": [
    "#### get single tag set by ID"
   ]
  },
  {
   "cell_type": "code",
   "execution_count": 35,
   "metadata": {},
   "outputs": [
    {
     "name": "stdout",
     "output_type": "stream",
     "text": [
      "results are saved to tagSets-5.txt\n"
     ]
    }
   ],
   "source": [
    "tags.get_single_tag_sets(tag_sets_id = '5')"
   ]
  },
  {
   "cell_type": "markdown",
   "metadata": {},
   "source": [
    "### get a list of tag sets"
   ]
  },
  {
   "cell_type": "code",
   "execution_count": 36,
   "metadata": {},
   "outputs": [
    {
     "name": "stdout",
     "output_type": "stream",
     "text": [
      "results are saved to tag_sets_list.csv\n"
     ]
    }
   ],
   "source": [
    "tags.get_tag_sets_list(last_tag_sets_id = 0, rows = 100)"
   ]
  },
  {
   "cell_type": "markdown",
   "metadata": {},
   "source": [
    "## Topic"
   ]
  },
  {
   "cell_type": "code",
   "execution_count": 38,
   "metadata": {
    "collapsed": true
   },
   "outputs": [],
   "source": [
    "import media_cloud_topics as mc_topics\n",
    "\n",
    "# subtitute with your own API key. This one is no longer valid!!\n",
    "topics = mc_topics.topic('f317d30a4559267ce4a28bffb7a3020116326a27947573b88abe85f0bc0dd672')"
   ]
  },
  {
   "cell_type": "markdown",
   "metadata": {},
   "source": [
    "#### get single topic by ID"
   ]
  },
  {
   "cell_type": "code",
   "execution_count": 39,
   "metadata": {},
   "outputs": [
    {
     "name": "stdout",
     "output_type": "stream",
     "text": [
      "results are saved to topic-5.txt\n"
     ]
    }
   ],
   "source": [
    "topics.get_single_topic(topic_id = '5')"
   ]
  },
  {
   "cell_type": "markdown",
   "metadata": {},
   "source": [
    "#### get a list of topic by name"
   ]
  },
  {
   "cell_type": "code",
   "execution_count": 40,
   "metadata": {},
   "outputs": [
    {
     "name": "stdout",
     "output_type": "stream",
     "text": [
      "results are saved to topics-list.txt\n"
     ]
    }
   ],
   "source": [
    "topics.get_topics_list(name=\"Trump\")"
   ]
  }
 ],
 "metadata": {
  "kernelspec": {
   "display_name": "Python 3",
   "language": "python",
   "name": "python3"
  },
  "language_info": {
   "codemirror_mode": {
    "name": "ipython",
    "version": 3
   },
   "file_extension": ".py",
   "mimetype": "text/x-python",
   "name": "python",
   "nbconvert_exporter": "python",
   "pygments_lexer": "ipython3",
   "version": "3.6.1"
  }
 },
 "nbformat": 4,
 "nbformat_minor": 2
}
